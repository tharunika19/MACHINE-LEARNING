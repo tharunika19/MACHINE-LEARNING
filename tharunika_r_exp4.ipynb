{
  "nbformat": 4,
  "nbformat_minor": 0,
  "metadata": {
    "colab": {
      "provenance": []
    },
    "kernelspec": {
      "name": "python3",
      "display_name": "Python 3"
    },
    "language_info": {
      "name": "python"
    }
  },
  "cells": [
    {
      "cell_type": "code",
      "execution_count": 1,
      "metadata": {
        "id": "qNWSJcujZNI3"
      },
      "outputs": [],
      "source": [
        "import numpy as np"
      ]
    },
    {
      "cell_type": "code",
      "source": [
        "X = np.array([[0, 0],\n",
        "              [0, 1],\n",
        "              [1, 0],\n",
        "              [1, 1]])"
      ],
      "metadata": {
        "id": "pp1S5vsIZX1H"
      },
      "execution_count": 2,
      "outputs": []
    },
    {
      "cell_type": "code",
      "source": [
        "Y = np.array([0, 0, 0, 1])\n"
      ],
      "metadata": {
        "id": "3i-7lgQVZa6Z"
      },
      "execution_count": 3,
      "outputs": []
    },
    {
      "cell_type": "code",
      "source": [
        "w = np.array([0.3, -0.2])\n",
        "theta=0.4\n",
        "lr=0.2\n",
        "epochs=5\n",
        "print(f\"Initial weights:{w},theta={theta},lr={lr}\\n\")"
      ],
      "metadata": {
        "colab": {
          "base_uri": "https://localhost:8080/"
        },
        "id": "r7Czyc2xZfpS",
        "outputId": "8935d085-bb23-4d30-d101-48f7b9bd1316"
      },
      "execution_count": 4,
      "outputs": [
        {
          "output_type": "stream",
          "name": "stdout",
          "text": [
            "Initial weights:[ 0.3 -0.2],theta=0.4,lr=0.2\n",
            "\n"
          ]
        }
      ]
    },
    {
      "cell_type": "code",
      "source": [
        "for epoch in range(1, epochs+1):\n",
        "  print(f\"---Epoch {epoch} ---\")\n",
        "  print(f\"x1\\tx2\\ty_des\\ty_est\\terror\\tw1\\tw2\")\n",
        "  error_count = 0\n",
        "  for i in range(len(X)):\n",
        "    x=X[i]\n",
        "    y_des=Y[i]\n",
        "\n",
        "    net = np.dot(x, w) + theta\n",
        "    y_est=1 if net>=0 else 0\n",
        "    error = y_des-y_est\n",
        "    if error != 0:\n",
        "      w = w + lr * error * x\n",
        "      error_count += 1\n",
        "    print(f\"{x[0]}\\t{x[1]}\\t{y_des}\\t{y_est}\\t{error}\\t{w[0]:.1f}\\t{w[1]:.1f}\")\n",
        "\n",
        "  if error_count == 0:\n",
        "    print(\"\\nTraining complete!\")\n",
        "    break\n"
      ],
      "metadata": {
        "colab": {
          "base_uri": "https://localhost:8080/"
        },
        "id": "OwK9-5zvZmCV",
        "outputId": "ce248b60-292c-466e-84c4-6fc3700dd284"
      },
      "execution_count": 5,
      "outputs": [
        {
          "output_type": "stream",
          "name": "stdout",
          "text": [
            "---Epoch 1 ---\n",
            "x1\tx2\ty_des\ty_est\terror\tw1\tw2\n",
            "0\t0\t0\t1\t-1\t0.3\t-0.2\n",
            "0\t1\t0\t1\t-1\t0.3\t-0.4\n",
            "1\t0\t0\t1\t-1\t0.1\t-0.4\n",
            "1\t1\t1\t1\t0\t0.1\t-0.4\n",
            "---Epoch 2 ---\n",
            "x1\tx2\ty_des\ty_est\terror\tw1\tw2\n",
            "0\t0\t0\t1\t-1\t0.1\t-0.4\n",
            "0\t1\t0\t1\t-1\t0.1\t-0.6\n",
            "1\t0\t0\t1\t-1\t-0.1\t-0.6\n",
            "1\t1\t1\t0\t1\t0.1\t-0.4\n",
            "---Epoch 3 ---\n",
            "x1\tx2\ty_des\ty_est\terror\tw1\tw2\n",
            "0\t0\t0\t1\t-1\t0.1\t-0.4\n",
            "0\t1\t0\t0\t0\t0.1\t-0.4\n",
            "1\t0\t0\t1\t-1\t-0.1\t-0.4\n",
            "1\t1\t1\t0\t1\t0.1\t-0.2\n",
            "---Epoch 4 ---\n",
            "x1\tx2\ty_des\ty_est\terror\tw1\tw2\n",
            "0\t0\t0\t1\t-1\t0.1\t-0.2\n",
            "0\t1\t0\t1\t-1\t0.1\t-0.4\n",
            "1\t0\t0\t1\t-1\t-0.1\t-0.4\n",
            "1\t1\t1\t0\t1\t0.1\t-0.2\n",
            "---Epoch 5 ---\n",
            "x1\tx2\ty_des\ty_est\terror\tw1\tw2\n",
            "0\t0\t0\t1\t-1\t0.1\t-0.2\n",
            "0\t1\t0\t1\t-1\t0.1\t-0.4\n",
            "1\t0\t0\t1\t-1\t-0.1\t-0.4\n",
            "1\t1\t1\t0\t1\t0.1\t-0.2\n"
          ]
        }
      ]
    },
    {
      "cell_type": "code",
      "source": [
        "print(\"\\nFinal perceptron outputs:\")\n",
        "for i in range(len(X)):\n",
        "  x=X[i]\n",
        "  net = np.dot(x, w) + theta\n",
        "  y_est=1 if net>=0 else 0\n",
        "  print(f\"Input {x}->Net={round(net,1)},Yest={y_est},Ydes={Y[i]}\")"
      ],
      "metadata": {
        "colab": {
          "base_uri": "https://localhost:8080/"
        },
        "id": "rkDly9EXZroX",
        "outputId": "13937b34-fbc6-4d9f-b0c5-4f6297dbdc88"
      },
      "execution_count": 7,
      "outputs": [
        {
          "output_type": "stream",
          "name": "stdout",
          "text": [
            "\n",
            "Final perceptron outputs:\n",
            "Input [0 0]->Net=0.4,Yest=1,Ydes=0\n",
            "Input [0 1]->Net=0.2,Yest=1,Ydes=0\n",
            "Input [1 0]->Net=0.5,Yest=1,Ydes=0\n",
            "Input [1 1]->Net=0.3,Yest=1,Ydes=1\n"
          ]
        }
      ]
    }
  ]
}