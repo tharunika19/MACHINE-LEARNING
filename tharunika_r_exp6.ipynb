{
  "nbformat": 4,
  "nbformat_minor": 0,
  "metadata": {
    "colab": {
      "provenance": []
    },
    "kernelspec": {
      "name": "python3",
      "display_name": "Python 3"
    },
    "language_info": {
      "name": "python"
    }
  },
  "cells": [
    {
      "cell_type": "code",
      "execution_count": 1,
      "metadata": {
        "id": "p9iiYuWkpV-B"
      },
      "outputs": [],
      "source": [
        "import pandas as pd\n",
        "import numpy as np\n",
        "from sklearn.preprocessing import LabelEncoder\n",
        "from sklearn.model_selection import train_test_split, cross_validate, StratifiedKFold\n",
        "from sklearn.svm import SVC\n",
        "from sklearn.metrics import confusion_matrix, accuracy_score, precision_score, recall_score, f1_score\n",
        "import matplotlib.pyplot as plt\n"
      ]
    },
    {
      "cell_type": "code",
      "source": [
        "from google.colab import drive\n",
        "drive.mount('/content/drive')"
      ],
      "metadata": {
        "colab": {
          "base_uri": "https://localhost:8080/"
        },
        "id": "ZWa9AKqkpgDi",
        "outputId": "b5974ed7-6705-4bd5-dfe9-ea0d3c8758a9"
      },
      "execution_count": 2,
      "outputs": [
        {
          "output_type": "stream",
          "name": "stdout",
          "text": [
            "Mounted at /content/drive\n"
          ]
        }
      ]
    },
    {
      "cell_type": "code",
      "source": [
        "file_path='/content/drive/MyDrive/MACHINE LEARNING/ObesityDataSet.csv'\n",
        "df = pd.read_csv(file_path)"
      ],
      "metadata": {
        "id": "0XcbajsipleZ"
      },
      "execution_count": 3,
      "outputs": []
    },
    {
      "cell_type": "code",
      "source": [
        "X = df.drop('NObeyesdad', axis=1)\n",
        "y = df['NObeyesdad']"
      ],
      "metadata": {
        "id": "qPdNLBn7qHQ7"
      },
      "execution_count": 4,
      "outputs": []
    },
    {
      "cell_type": "code",
      "source": [
        "le_target = LabelEncoder()\n",
        "y_encoded = le_target.fit_transform(y)"
      ],
      "metadata": {
        "id": "bntZo7KSqRsJ"
      },
      "execution_count": 5,
      "outputs": []
    },
    {
      "cell_type": "code",
      "source": [
        "X_encoded = X.copy()\n",
        "for col in X_encoded.select_dtypes(include='object').columns:\n",
        "    X_encoded[col] = LabelEncoder().fit_transform(X_encoded[col])"
      ],
      "metadata": {
        "id": "IIn-mn9lqVHr"
      },
      "execution_count": 6,
      "outputs": []
    },
    {
      "cell_type": "code",
      "source": [
        "X_train, X_test, y_train, y_test = train_test_split(\n",
        "    X_encoded, y_encoded, test_size=0.3, stratify=y_encoded, random_state=42)"
      ],
      "metadata": {
        "id": "xJEEPMFfqlBI"
      },
      "execution_count": 7,
      "outputs": []
    },
    {
      "cell_type": "code",
      "source": [
        "kernels = {\n",
        "    'rbf': {'C': 1.0, 'gamma': 'scale'},\n",
        "    'linear': {'C': 1.0},\n",
        "    'poly': {'degree': 3, 'C': 1.0, 'gamma': 'scale'},\n",
        "    'sigmoid': {'C': 1.0, 'gamma': 'scale'}\n",
        "}"
      ],
      "metadata": {
        "id": "yiiQFuMXqq3r"
      },
      "execution_count": 8,
      "outputs": []
    },
    {
      "cell_type": "code",
      "source": [
        "def train_evaluate_svm(kernel, params, X_train, X_test, y_train, y_test):\n",
        "    print(f\"\\nTraining SVM with kernel = '{kernel}'\")\n",
        "    model = SVC(kernel=kernel, **params, random_state=42)\n",
        "    model.fit(X_train, y_train)\n",
        "    y_pred = model.predict(X_test)\n",
        "\n",
        "    cm = confusion_matrix(y_test, y_pred)\n",
        "    print(\"Confusion Matrix:\\n\", cm)\n",
        "\n",
        "    acc = accuracy_score(y_test, y_pred)\n",
        "    precision = precision_score(y_test, y_pred, average=None, zero_division=0)\n",
        "    recall = recall_score(y_test, y_pred, average=None, zero_division=0)\n",
        "    f1 = f1_score(y_test, y_pred, average=None, zero_division=0)\n",
        "\n",
        "    print(f\"Accuracy: {acc:.4f}\")\n",
        "    for i, label in enumerate(le_target.classes_):\n",
        "        print(f\"Class '{label}': Precision={precision[i]:.4f}, Recall={recall[i]:.4f}, F1-score={f1[i]:.4f}\")\n",
        "\n",
        "    return model, acc, precision.mean(), recall.mean(), f1.mean()\n",
        "\n",
        "results = {}"
      ],
      "metadata": {
        "id": "ue9WjQfWqyLH"
      },
      "execution_count": 9,
      "outputs": []
    },
    {
      "cell_type": "code",
      "source": [
        "for kernel, params in kernels.items():\n",
        "    model, acc, prec, rec, f1 = train_evaluate_svm(kernel, params, X_train, X_test, y_train, y_test)\n",
        "    results[kernel] = {'model': model, 'accuracy': acc, 'precision': prec, 'recall': rec, 'f1': f1}"
      ],
      "metadata": {
        "colab": {
          "base_uri": "https://localhost:8080/"
        },
        "id": "rzt1nf9TvPt9",
        "outputId": "829e4ef8-1746-4e42-b420-322276ed0211"
      },
      "execution_count": 10,
      "outputs": [
        {
          "output_type": "stream",
          "name": "stdout",
          "text": [
            "\n",
            "Training SVM with kernel = 'rbf'\n",
            "Confusion Matrix:\n",
            " [[68 14  0  0  0  0  0]\n",
            " [24 41  0  0  0 19  2]\n",
            " [ 0  0 37  3 17  1 48]\n",
            " [ 0  0 10 42 37  0  0]\n",
            " [ 0  0  0  0 97  0  0]\n",
            " [ 2 15  3  0  0 56 11]\n",
            " [ 0  3 20  0  0 19 45]]\n",
            "Accuracy: 0.6088\n",
            "Class 'Insufficient_Weight': Precision=0.7234, Recall=0.8293, F1-score=0.7727\n",
            "Class 'Normal_Weight': Precision=0.5616, Recall=0.4767, F1-score=0.5157\n",
            "Class 'Obesity_Type_I': Precision=0.5286, Recall=0.3491, F1-score=0.4205\n",
            "Class 'Obesity_Type_II': Precision=0.9333, Recall=0.4719, F1-score=0.6269\n",
            "Class 'Obesity_Type_III': Precision=0.6424, Recall=1.0000, F1-score=0.7823\n",
            "Class 'Overweight_Level_I': Precision=0.5895, Recall=0.6437, F1-score=0.6154\n",
            "Class 'Overweight_Level_II': Precision=0.4245, Recall=0.5172, F1-score=0.4663\n",
            "\n",
            "Training SVM with kernel = 'linear'\n",
            "Confusion Matrix:\n",
            " [[76  6  0  0  0  0  0]\n",
            " [11 61  0  0  0 13  1]\n",
            " [ 0  0 92  5  0  2  7]\n",
            " [ 0  0  2 87  0  0  0]\n",
            " [ 0  0  0  1 96  0  0]\n",
            " [ 0  9  1  0  0 69  8]\n",
            " [ 0  1 14  0  0 15 57]]\n",
            "Accuracy: 0.8486\n",
            "Class 'Insufficient_Weight': Precision=0.8736, Recall=0.9268, F1-score=0.8994\n",
            "Class 'Normal_Weight': Precision=0.7922, Recall=0.7093, F1-score=0.7485\n",
            "Class 'Obesity_Type_I': Precision=0.8440, Recall=0.8679, F1-score=0.8558\n",
            "Class 'Obesity_Type_II': Precision=0.9355, Recall=0.9775, F1-score=0.9560\n",
            "Class 'Obesity_Type_III': Precision=1.0000, Recall=0.9897, F1-score=0.9948\n",
            "Class 'Overweight_Level_I': Precision=0.6970, Recall=0.7931, F1-score=0.7419\n",
            "Class 'Overweight_Level_II': Precision=0.7808, Recall=0.6552, F1-score=0.7125\n",
            "\n",
            "Training SVM with kernel = 'poly'\n",
            "Confusion Matrix:\n",
            " [[74  8  0  0  0  0  0]\n",
            " [26 46  0  0  0 12  2]\n",
            " [ 0  0 43  3  6  3 51]\n",
            " [ 0  0 11 38 40  0  0]\n",
            " [ 0  0  3  0 94  0  0]\n",
            " [ 3 29  1  0  0 42 12]\n",
            " [ 0  5 18  0  0 26 38]]\n",
            "Accuracy: 0.5915\n",
            "Class 'Insufficient_Weight': Precision=0.7184, Recall=0.9024, F1-score=0.8000\n",
            "Class 'Normal_Weight': Precision=0.5227, Recall=0.5349, F1-score=0.5287\n",
            "Class 'Obesity_Type_I': Precision=0.5658, Recall=0.4057, F1-score=0.4725\n",
            "Class 'Obesity_Type_II': Precision=0.9268, Recall=0.4270, F1-score=0.5846\n",
            "Class 'Obesity_Type_III': Precision=0.6714, Recall=0.9691, F1-score=0.7932\n",
            "Class 'Overweight_Level_I': Precision=0.5060, Recall=0.4828, F1-score=0.4941\n",
            "Class 'Overweight_Level_II': Precision=0.3689, Recall=0.4368, F1-score=0.4000\n",
            "\n",
            "Training SVM with kernel = 'sigmoid'\n",
            "Confusion Matrix:\n",
            " [[  2   0   0   0  80   0   0]\n",
            " [  0   0   0   0  86   0   0]\n",
            " [  0   3   0   0 100   3   0]\n",
            " [  0  74   0   0  14   1   0]\n",
            " [  2  66   0   0  19  10   0]\n",
            " [  0   0   0   0  87   0   0]\n",
            " [  0   0   0   0  87   0   0]]\n",
            "Accuracy: 0.0331\n",
            "Class 'Insufficient_Weight': Precision=0.5000, Recall=0.0244, F1-score=0.0465\n",
            "Class 'Normal_Weight': Precision=0.0000, Recall=0.0000, F1-score=0.0000\n",
            "Class 'Obesity_Type_I': Precision=0.0000, Recall=0.0000, F1-score=0.0000\n",
            "Class 'Obesity_Type_II': Precision=0.0000, Recall=0.0000, F1-score=0.0000\n",
            "Class 'Obesity_Type_III': Precision=0.0402, Recall=0.1959, F1-score=0.0667\n",
            "Class 'Overweight_Level_I': Precision=0.0000, Recall=0.0000, F1-score=0.0000\n",
            "Class 'Overweight_Level_II': Precision=0.0000, Recall=0.0000, F1-score=0.0000\n"
          ]
        }
      ]
    },
    {
      "cell_type": "code",
      "source": [
        "plt.figure(figsize=(8, 5))\n",
        "plt.bar(results.keys(), [v['accuracy'] for v in results.values()], color='skyblue')\n",
        "plt.ylabel('Accuracy')\n",
        "plt.title('SVM Accuracy for Different Kernels (Test Set)')\n",
        "plt.ylim(0, 1)\n",
        "plt.show()"
      ],
      "metadata": {
        "colab": {
          "base_uri": "https://localhost:8080/",
          "height": 454
        },
        "id": "8BUksEc2vZ22",
        "outputId": "6f4a4f89-c703-44c6-d7d0-b10a88d59441"
      },
      "execution_count": 11,
      "outputs": [
        {
          "output_type": "display_data",
          "data": {
            "text/plain": [
              "<Figure size 800x500 with 1 Axes>"
            ],
            "image/png": "[encoded data removed]"
          },
          "metadata": {}
        }
      ]
    },
    {
      "cell_type": "code",
      "source": [
        "cv_results = {'kernel': [], 'accuracy': [], 'precision': [], 'recall': [], 'f1': []}\n",
        "skf = StratifiedKFold(n_splits=5, shuffle=True, random_state=42)"
      ],
      "metadata": {
        "id": "Q6WrIq05vqdl"
      },
      "execution_count": 12,
      "outputs": []
    },
    {
      "cell_type": "code",
      "source": [
        "cv_results = {'kernel': [], 'accuracy': [], 'precision': [], 'recall': [], 'f1': []}\n",
        "for kernel, params in kernels.items():\n",
        "    svm = SVC(kernel=kernel, **params, random_state=42)\n",
        "    scoring = ['accuracy', 'precision_macro', 'recall_macro', 'f1_macro']\n",
        "    scores = cross_validate(svm, X_encoded, y_encoded, cv=skf, scoring=scoring)\n",
        "\n",
        "    cv_results['kernel'].append(kernel)\n",
        "    cv_results['accuracy'].append(np.mean(scores['test_accuracy']))\n",
        "    cv_results['precision'].append(np.mean(scores['test_precision_macro']))\n",
        "    cv_results['recall'].append(np.mean(scores['test_recall_macro']))\n",
        "    cv_results['f1'].append(np.mean(scores['test_f1_macro']))"
      ],
      "metadata": {
        "colab": {
          "base_uri": "https://localhost:8080/"
        },
        "id": "Z86Y23HBvuya",
        "outputId": "f0e9fffd-f6b0-4772-c06c-93a583e218dc"
      },
      "execution_count": 13,
      "outputs": [
        {
          "output_type": "stream",
          "name": "stderr",
          "text": [
            "/usr/local/lib/python3.12/dist-packages/sklearn/metrics/_classification.py:1565: UndefinedMetricWarning: Precision is ill-defined and being set to 0.0 in labels with no predicted samples. Use `zero_division` parameter to control this behavior.\n",
            "  _warn_prf(average, modifier, f\"{metric.capitalize()} is\", len(result))\n",
            "/usr/local/lib/python3.12/dist-packages/sklearn/metrics/_classification.py:1565: UndefinedMetricWarning: Precision is ill-defined and being set to 0.0 in labels with no predicted samples. Use `zero_division` parameter to control this behavior.\n",
            "  _warn_prf(average, modifier, f\"{metric.capitalize()} is\", len(result))\n",
            "/usr/local/lib/python3.12/dist-packages/sklearn/metrics/_classification.py:1565: UndefinedMetricWarning: Precision is ill-defined and being set to 0.0 in labels with no predicted samples. Use `zero_division` parameter to control this behavior.\n",
            "  _warn_prf(average, modifier, f\"{metric.capitalize()} is\", len(result))\n",
            "/usr/local/lib/python3.12/dist-packages/sklearn/metrics/_classification.py:1565: UndefinedMetricWarning: Precision is ill-defined and being set to 0.0 in labels with no predicted samples. Use `zero_division` parameter to control this behavior.\n",
            "  _warn_prf(average, modifier, f\"{metric.capitalize()} is\", len(result))\n",
            "/usr/local/lib/python3.12/dist-packages/sklearn/metrics/_classification.py:1565: UndefinedMetricWarning: Precision is ill-defined and being set to 0.0 in labels with no predicted samples. Use `zero_division` parameter to control this behavior.\n",
            "  _warn_prf(average, modifier, f\"{metric.capitalize()} is\", len(result))\n"
          ]
        }
      ]
    },
    {
      "cell_type": "code",
      "source": [
        "cv_df = pd.DataFrame(cv_results)"
      ],
      "metadata": {
        "id": "CR3Van_qvx1u"
      },
      "execution_count": 14,
      "outputs": []
    },
    {
      "cell_type": "code",
      "source": [
        "cv_df = pd.DataFrame(cv_results)\n",
        "print(\"\\nCross-validation results:\")\n",
        "print(cv_df)"
      ],
      "metadata": {
        "colab": {
          "base_uri": "https://localhost:8080/"
        },
        "id": "3bs4Gn1yv4s1",
        "outputId": "22e4630a-474b-427d-cbf3-3d33dc2132eb"
      },
      "execution_count": 15,
      "outputs": [
        {
          "output_type": "stream",
          "name": "stdout",
          "text": [
            "\n",
            "Cross-validation results:\n",
            "    kernel  accuracy  precision    recall        f1\n",
            "0      rbf  0.603970   0.609566  0.607400  0.594488\n",
            "1   linear  0.875416   0.876609  0.872509  0.870698\n",
            "2     poly  0.601135   0.607156  0.602149  0.589698\n",
            "3  sigmoid  0.038847   0.121166  0.036658  0.017539\n"
          ]
        }
      ]
    },
    {
      "cell_type": "code",
      "source": [
        "plt.figure(figsize=(10, 6))\n",
        "bar_width = 0.2\n",
        "x = np.arange(len(kernels))\n"
      ],
      "metadata": {
        "colab": {
          "base_uri": "https://localhost:8080/",
          "height": 34
        },
        "id": "v08wefd4v8Uz",
        "outputId": "a068c5c0-bcdc-4427-b08d-8fb649adea69"
      },
      "execution_count": 16,
      "outputs": [
        {
          "output_type": "display_data",
          "data": {
            "text/plain": [
              "<Figure size 1000x600 with 0 Axes>"
            ]
          },
          "metadata": {}
        }
      ]
    },
    {
      "cell_type": "code",
      "source": [
        "metrics = ['accuracy', 'precision', 'recall', 'f1']\n",
        "for i, metric in enumerate(metrics):\n",
        "    plt.bar(x + i * bar_width, cv_df[metric], width=bar_width, label=metric.capitalize())\n",
        "\n",
        "plt.xticks(x + bar_width * 1.5, cv_df['kernel'])\n",
        "plt.ylim(0, 1)\n",
        "plt.ylabel('Score')\n",
        "plt.title('SVM Performance Metrics (5-Fold Cross-Validation)')\n",
        "plt.legend()\n",
        "plt.show()\n"
      ],
      "metadata": {
        "colab": {
          "base_uri": "https://localhost:8080/",
          "height": 452
        },
        "id": "DAh9b_nCwBXe",
        "outputId": "77acb8c8-c0d8-403a-9aae-5d1d2cd67ffd"
      },
      "execution_count": 17,
      "outputs": [
        {
          "output_type": "display_data",
          "data": {
            "text/plain": [
              "<Figure size 640x480 with 1 Axes>"
            ],
            "image/png": "[encoded data removed]"
          },
          "metadata": {}
        }
      ]
    },
    {
      "cell_type": "code",
      "source": [
        "rbf_model = results['rbf']['model']\n",
        "print(\"\\nFirst 5 Support Vectors (RBF kernel):\")\n",
        "print(rbf_model.support_vectors_[:5])\n"
      ],
      "metadata": {
        "colab": {
          "base_uri": "https://localhost:8080/"
        },
        "id": "c__Po6B-wFXM",
        "outputId": "fffdac97-a935-4833-eb75-c276f5a41a72"
      },
      "execution_count": 18,
      "outputs": [
        {
          "output_type": "stream",
          "name": "stdout",
          "text": [
            "\n",
            "First 5 Support Vectors (RBF kernel):\n",
            "[[ 0.       21.798856  1.672007 49.980968  1.        1.        2.979383\n",
            "   3.        1.        0.        2.975887  0.        0.945093  1.241755\n",
            "   3.        3.      ]\n",
            " [ 0.       19.272573  1.71367  50.        0.        1.        1.005578\n",
            "   4.        1.        0.        1.        0.        1.683957  0.704978\n",
            "   2.        3.      ]\n",
            " [ 1.       19.        1.7      50.        0.        1.        1.\n",
            "   4.        1.        0.        1.        0.        2.        1.\n",
            "   2.        3.      ]\n",
            " [ 0.       19.665881  1.676346 49.105025  0.        0.        2.720701\n",
            "   3.        2.        0.        2.        0.        1.862235  1.\n",
            "   2.        3.      ]\n",
            " [ 1.       17.038222  1.710564 51.588874  0.        1.        2.\n",
            "   2.057935  2.        0.        2.371015  0.        0.288032  0.714627\n",
            "   2.        3.      ]]\n"
          ]
        }
      ]
    }
  ]
}